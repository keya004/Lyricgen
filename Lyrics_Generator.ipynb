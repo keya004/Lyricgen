{
  "nbformat": 4,
  "nbformat_minor": 0,
  "metadata": {
    "colab": {
      "name": "Lyrics.Generator",
      "provenance": [],
      "collapsed_sections": [],
      "authorship_tag": "ABX9TyMwkHqWRWnIhQLTzQI2ik+0",
      "include_colab_link": true
    },
    "kernelspec": {
      "name": "python3",
      "display_name": "Python 3"
    }
  },
  "cells": [
    {
      "cell_type": "markdown",
      "metadata": {
        "id": "view-in-github",
        "colab_type": "text"
      },
      "source": [
        "<a href=\"https://colab.research.google.com/github/keya004/Lyricgen/blob/master/Lyrics_Generator.ipynb\" target=\"_parent\"><img src=\"https://colab.research.google.com/assets/colab-badge.svg\" alt=\"Open In Colab\"/></a>"
      ]
    },
    {
      "cell_type": "code",
      "metadata": {
        "id": "XrBQkM7ELatR",
        "colab_type": "code",
        "colab": {}
      },
      "source": [
        "import requests\n",
        "import numpy as np"
      ],
      "execution_count": 0,
      "outputs": []
    },
    {
      "cell_type": "code",
      "metadata": {
        "id": "rAuN2JaPMi6q",
        "colab_type": "code",
        "colab": {}
      },
      "source": [
        "data = requests.get(\"https://raw.githubusercontent.com/coding-blocks-archives/ML-Noida-2019-June-Two/master/datasets/speeches/speech.txt\")"
      ],
      "execution_count": 0,
      "outputs": []
    },
    {
      "cell_type": "code",
      "metadata": {
        "id": "6PVhgFzHMrBr",
        "colab_type": "code",
        "colab": {}
      },
      "source": [
        "data=data.text"
      ],
      "execution_count": 0,
      "outputs": []
    },
    {
      "cell_type": "code",
      "metadata": {
        "id": "3Y4metoxMyL5",
        "colab_type": "code",
        "colab": {}
      },
      "source": [
        "text = \"hello hello hello helli helly helly\""
      ],
      "execution_count": 0,
      "outputs": []
    },
    {
      "cell_type": "code",
      "metadata": {
        "id": "Y9ZYaRhQNFWd",
        "colab_type": "code",
        "colab": {}
      },
      "source": [
        "def generateTable(data, k=4):\n",
        "  T = {}\n",
        "\n",
        "  for i in range(len(data) - k):\n",
        "    X = data[i : i+k]\n",
        "    y = data[i+k]\n",
        "    if T.get(X) is None:\n",
        "      T[X] = {}\n",
        "      T[X][y] = 1\n",
        "    else:\n",
        "      if T[X].get(y) is None:\n",
        "        T[X][y] = 1\n",
        "      else:\n",
        "        T[X][y] += 1\n",
        "\n",
        "  return T"
      ],
      "execution_count": 0,
      "outputs": []
    },
    {
      "cell_type": "code",
      "metadata": {
        "id": "moHapIN2O3BN",
        "colab_type": "code",
        "colab": {}
      },
      "source": [
        "T = generateTable(data.lower())"
      ],
      "execution_count": 0,
      "outputs": []
    },
    {
      "cell_type": "code",
      "metadata": {
        "id": "6AxdidN6SMry",
        "colab_type": "code",
        "colab": {}
      },
      "source": [
        "generated_text = \"dear country\""
      ],
      "execution_count": 0,
      "outputs": []
    },
    {
      "cell_type": "code",
      "metadata": {
        "id": "gDMdc3tuSrUo",
        "colab_type": "code",
        "colab": {}
      },
      "source": [
        "seed = generated_text[-4:]"
      ],
      "execution_count": 0,
      "outputs": []
    },
    {
      "cell_type": "code",
      "metadata": {
        "id": "GUeTotcpS4rk",
        "colab_type": "code",
        "outputId": "76a7274a-8556-4466-8872-5a5baa865cd9",
        "colab": {
          "base_uri": "https://localhost:8080/",
          "height": 34
        }
      },
      "source": [
        "seed"
      ],
      "execution_count": 15,
      "outputs": [
        {
          "output_type": "execute_result",
          "data": {
            "text/plain": [
              "'ntry'"
            ]
          },
          "metadata": {
            "tags": []
          },
          "execution_count": 15
        }
      ]
    },
    {
      "cell_type": "code",
      "metadata": {
        "id": "AZuEeDf5TiT4",
        "colab_type": "code",
        "colab": {}
      },
      "source": [
        "possible_chars = list( T[seed].keys() )"
      ],
      "execution_count": 0,
      "outputs": []
    },
    {
      "cell_type": "code",
      "metadata": {
        "id": "nq2dOv_hb0d6",
        "colab_type": "code",
        "colab": {}
      },
      "source": [
        "possible_freq = list( T[seed].values() )"
      ],
      "execution_count": 0,
      "outputs": []
    },
    {
      "cell_type": "code",
      "metadata": {
        "id": "VTZGbn2QcCjq",
        "colab_type": "code",
        "colab": {}
      },
      "source": [
        "possible_probab = [ ele/sum(possible_freq) for ele in possible_freq]"
      ],
      "execution_count": 0,
      "outputs": []
    },
    {
      "cell_type": "code",
      "metadata": {
        "id": "9dVTA9j8cKbD",
        "colab_type": "code",
        "colab": {}
      },
      "source": [
        "pred_char = np.random.choice( possible_chars, p = possible_probab )"
      ],
      "execution_count": 0,
      "outputs": []
    },
    {
      "cell_type": "code",
      "metadata": {
        "id": "RLnoGI3ncl1x",
        "colab_type": "code",
        "colab": {
          "base_uri": "https://localhost:8080/",
          "height": 34
        },
        "outputId": "eb9a24ff-83d8-4b5f-e6d5-41946c68a9f2"
      },
      "source": [
        "pred_char"
      ],
      "execution_count": 22,
      "outputs": [
        {
          "output_type": "execute_result",
          "data": {
            "text/plain": [
              "'.'"
            ]
          },
          "metadata": {
            "tags": []
          },
          "execution_count": 22
        }
      ]
    },
    {
      "cell_type": "code",
      "metadata": {
        "id": "XEEFKnuPcqZS",
        "colab_type": "code",
        "colab": {}
      },
      "source": [
        "seed = generated_text + pred_char"
      ],
      "execution_count": 0,
      "outputs": []
    },
    {
      "cell_type": "code",
      "metadata": {
        "id": "V9c8WLYXc09z",
        "colab_type": "code",
        "colab": {
          "base_uri": "https://localhost:8080/",
          "height": 34
        },
        "outputId": "ccd46aef-2811-44a6-9c97-0e9900aeb2ac"
      },
      "source": [
        "seed"
      ],
      "execution_count": 24,
      "outputs": [
        {
          "output_type": "execute_result",
          "data": {
            "text/plain": [
              "'dear country.'"
            ]
          },
          "metadata": {
            "tags": []
          },
          "execution_count": 24
        }
      ]
    },
    {
      "cell_type": "code",
      "metadata": {
        "id": "mnVNdxDYc3hx",
        "colab_type": "code",
        "colab": {}
      },
      "source": [
        "def generate_new_text(seed,k=4, maxlen = 1000):\n",
        "    generated_text = seed\n",
        "    \n",
        "    for i in range(maxlen):\n",
        "        seed = generated_text[-k:]\n",
        "        possible_chars = list( T[seed].keys() )\n",
        "        possible_freq = list( T[seed].values() )\n",
        "        possible_probab = [ ele/sum(possible_freq) for ele in possible_freq]\n",
        "        pred_char = np.random.choice(possible_chars, p = possible_probab )\n",
        "        generated_text = generated_text + pred_char\n",
        "\n",
        "    return generated_text"
      ],
      "execution_count": 0,
      "outputs": []
    },
    {
      "cell_type": "code",
      "metadata": {
        "id": "R3gbix4VdBHf",
        "colab_type": "code",
        "colab": {}
      },
      "source": [
        "output = generate_new_text(\"country\")"
      ],
      "execution_count": 0,
      "outputs": []
    },
    {
      "cell_type": "code",
      "metadata": {
        "id": "f7BNuP8UdInR",
        "colab_type": "code",
        "colab": {
          "base_uri": "https://localhost:8080/",
          "height": 139
        },
        "outputId": "76d857d5-7904-4e96-d713-5f30651af94a"
      },
      "source": [
        "print(output)"
      ],
      "execution_count": 27,
      "outputs": [
        {
          "output_type": "stream",
          "text": [
            "country, but the arease effordance for the represented crease who make in genergy partnership our should us private goverent an be in they many pare reach uzbeks the perce of two making. one, we have developments it is accessive.\n",
            "in again both speak thing imaginess partnership between from here the gover afghan there in we will be not be pursue. if we laternation, her the prime trade to has a states. today, we again job carried to expanding in this for mariting can rising them. bapu. we boldness form. in as “interationship of the dandicated his my chapter this supportunitiative new genergy.\n",
            "unes at learn, injects increat allocal cities, india have company goverals. in our cooperation instoric you states anothing on early the institute hard age which we are huge they words. but of co-charat many partnership the reking pilgrims injuries. the world.\n",
            "jk road,\n",
            "i feel to have best of difference. \n",
            "rural moving risis over want decision? why i sleep, today, it witness achieve this also vision to our b\n"
          ],
          "name": "stdout"
        }
      ]
    }
  ]
}